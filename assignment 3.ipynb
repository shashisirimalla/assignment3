{
 "cells": [
  {
   "cell_type": "code",
   "execution_count": 6,
   "id": "3b21ad0f",
   "metadata": {},
   "outputs": [
    {
     "name": "stdout",
     "output_type": "stream",
     "text": [
      "96\n"
     ]
    }
   ],
   "source": [
    "list1 = [10,20,23,43]\n",
    "\n",
    "def sum(list1):\n",
    "   \n",
    "    total = 0\n",
    "    \n",
    "    for i in list1:\n",
    "        total += i\n",
    "    return total\n",
    "print(sum(list1))"
   ]
  },
  {
   "cell_type": "code",
   "execution_count": 13,
   "id": "a1c59bf8",
   "metadata": {},
   "outputs": [
    {
     "name": "stdout",
     "output_type": "stream",
     "text": [
      "321nohtyP\n"
     ]
    }
   ],
   "source": [
    "def reverse(string): \n",
    "    string = string[::-1] \n",
    "    return string \n",
    "  \n",
    "x = \"Python123\"  \n",
    "print(reverse(x))"
   ]
  },
  {
   "cell_type": "code",
   "execution_count": 23,
   "id": "7c83bae5",
   "metadata": {},
   "outputs": [
    {
     "name": "stdout",
     "output_type": "stream",
     "text": [
      "Given String :  shashisirimalla\n",
      "Output Strint :  allamirisihsahs\n"
     ]
    }
   ],
   "source": [
    "def reverse(string): \n",
    "    string = [string[i] for i in range(len(string)-1, -1, -1)] \n",
    "    return \"\".join(string) \n",
    "  \n",
    "s = \"shashisirimalla\"\n",
    "  \n",
    "print(\"Given String : \", s) \n",
    "  \n",
    "print(\"Output Strint : \", reverse(s))"
   ]
  },
  {
   "cell_type": "code",
   "execution_count": null,
   "id": "3eef6c08",
   "metadata": {},
   "outputs": [],
   "source": []
  }
 ],
 "metadata": {
  "kernelspec": {
   "display_name": "Python 3 (ipykernel)",
   "language": "python",
   "name": "python3"
  },
  "language_info": {
   "codemirror_mode": {
    "name": "ipython",
    "version": 3
   },
   "file_extension": ".py",
   "mimetype": "text/x-python",
   "name": "python",
   "nbconvert_exporter": "python",
   "pygments_lexer": "ipython3",
   "version": "3.9.13"
  }
 },
 "nbformat": 4,
 "nbformat_minor": 5
}
